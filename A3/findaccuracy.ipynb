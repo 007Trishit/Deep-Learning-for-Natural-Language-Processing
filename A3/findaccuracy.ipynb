{
 "cells": [
  {
   "cell_type": "code",
   "execution_count": 18,
   "metadata": {},
   "outputs": [],
   "source": [
    "import pandas as pd\n",
    "\n",
    "# Load the generated outputs from the model (generated file)\n",
    "generated_file_path = 'FinalOutputsOnly.xlsx'  # Provide the correct path\n",
    "generated_outputs_df = pd.read_excel(generated_file_path, header= None)\n",
    "\n",
    "# Load the validation file with true outputs\n",
    "validation_file_path = '../ArithOpsTestData1.xlsx'\n",
    "validation_df = pd.read_excel(validation_file_path)"
   ]
  },
  {
   "cell_type": "code",
   "execution_count": 19,
   "metadata": {},
   "outputs": [
    {
     "data": {
      "text/html": [
       "<div>\n",
       "<style scoped>\n",
       "    .dataframe tbody tr th:only-of-type {\n",
       "        vertical-align: middle;\n",
       "    }\n",
       "\n",
       "    .dataframe tbody tr th {\n",
       "        vertical-align: top;\n",
       "    }\n",
       "\n",
       "    .dataframe thead th {\n",
       "        text-align: right;\n",
       "    }\n",
       "</style>\n",
       "<table border=\"1\" class=\"dataframe\">\n",
       "  <thead>\n",
       "    <tr style=\"text-align: right;\">\n",
       "      <th></th>\n",
       "      <th>0</th>\n",
       "    </tr>\n",
       "  </thead>\n",
       "  <tbody>\n",
       "    <tr>\n",
       "      <th>0</th>\n",
       "      <td>9.0</td>\n",
       "    </tr>\n",
       "    <tr>\n",
       "      <th>1</th>\n",
       "      <td>15.0</td>\n",
       "    </tr>\n",
       "    <tr>\n",
       "      <th>2</th>\n",
       "      <td>16.0</td>\n",
       "    </tr>\n",
       "    <tr>\n",
       "      <th>3</th>\n",
       "      <td>6.0</td>\n",
       "    </tr>\n",
       "    <tr>\n",
       "      <th>4</th>\n",
       "      <td>14.0</td>\n",
       "    </tr>\n",
       "    <tr>\n",
       "      <th>...</th>\n",
       "      <td>...</td>\n",
       "    </tr>\n",
       "    <tr>\n",
       "      <th>233</th>\n",
       "      <td>2.8</td>\n",
       "    </tr>\n",
       "    <tr>\n",
       "      <th>234</th>\n",
       "      <td>18.0</td>\n",
       "    </tr>\n",
       "    <tr>\n",
       "      <th>235</th>\n",
       "      <td>600.0</td>\n",
       "    </tr>\n",
       "    <tr>\n",
       "      <th>236</th>\n",
       "      <td>76.0</td>\n",
       "    </tr>\n",
       "    <tr>\n",
       "      <th>237</th>\n",
       "      <td>539.0</td>\n",
       "    </tr>\n",
       "  </tbody>\n",
       "</table>\n",
       "<p>238 rows × 1 columns</p>\n",
       "</div>"
      ],
      "text/plain": [
       "         0\n",
       "0      9.0\n",
       "1     15.0\n",
       "2     16.0\n",
       "3      6.0\n",
       "4     14.0\n",
       "..     ...\n",
       "233    2.8\n",
       "234   18.0\n",
       "235  600.0\n",
       "236   76.0\n",
       "237  539.0\n",
       "\n",
       "[238 rows x 1 columns]"
      ]
     },
     "execution_count": 19,
     "metadata": {},
     "output_type": "execute_result"
    }
   ],
   "source": [
    "generated_outputs_df"
   ]
  },
  {
   "cell_type": "code",
   "execution_count": 20,
   "metadata": {},
   "outputs": [
    {
     "name": "stdout",
     "output_type": "stream",
     "text": [
      "Accuracy of the model's outputs: 75.21%\n"
     ]
    }
   ],
   "source": [
    "\n",
    "# Extract true outputs from the validation dataframe\n",
    "true_outputs = validation_df['Output'].tolist()\n",
    "\n",
    "# Extract generated outputs from the generated dataframe\n",
    "generated_outputs = generated_outputs_df.iloc[:, 0].tolist()  # Get the first column as a list\n",
    "\n",
    "# Ensure the lengths of the true and generated outputs match\n",
    "if len(true_outputs) != len(generated_outputs):\n",
    "    print(\"Mismatch in the number of outputs! Please check the files.\")\n",
    "else:\n",
    "    # Calculate the accuracy\n",
    "    correct_predictions = sum([1 for true, gen in zip(true_outputs, generated_outputs) if abs(true - gen) < 1e-6])\n",
    "    total_predictions = len(true_outputs)\n",
    "    accuracy = correct_predictions / total_predictions * 100\n",
    "\n",
    "    print(f\"Accuracy of the model's outputs: {accuracy:.2f}%\")"
   ]
  },
  {
   "cell_type": "code",
   "execution_count": null,
   "metadata": {},
   "outputs": [],
   "source": []
  }
 ],
 "metadata": {
  "kernelspec": {
   "display_name": "dl-nlp",
   "language": "python",
   "name": "python3"
  },
  "language_info": {
   "codemirror_mode": {
    "name": "ipython",
    "version": 3
   },
   "file_extension": ".py",
   "mimetype": "text/x-python",
   "name": "python",
   "nbconvert_exporter": "python",
   "pygments_lexer": "ipython3",
   "version": "3.10.14"
  }
 },
 "nbformat": 4,
 "nbformat_minor": 2
}
