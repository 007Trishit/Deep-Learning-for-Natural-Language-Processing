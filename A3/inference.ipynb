{
 "cells": [
  {
   "cell_type": "code",
   "execution_count": 6,
   "metadata": {},
   "outputs": [
    {
     "name": "stderr",
     "output_type": "stream",
     "text": [
      "/home/trishitm/miniconda3/envs/dl-nlp/lib/python3.10/site-packages/transformers/generation/utils.py:1220: UserWarning: Using the model-agnostic default `max_length` (=20) to control the generation length. We recommend setting `max_new_tokens` to control the maximum length of the generation.\n",
      "  warnings.warn(\n"
     ]
    },
    {
     "name": "stdout",
     "output_type": "stream",
     "text": [
      "Final outputs saved to FinalOutputsOnly.xlsx\n"
     ]
    }
   ],
   "source": [
    "import pandas as pd\n",
    "import torch\n",
    "from transformers import T5Tokenizer, T5ForConditionalGeneration\n",
    "import operator\n",
    "\n",
    "# Load the trained model and tokenizer\n",
    "model_path = './best_t5_arithmetic_model'  # Path to the trained model\n",
    "tokenizer = T5Tokenizer.from_pretrained(model_path)\n",
    "model = T5ForConditionalGeneration.from_pretrained(model_path)\n",
    "\n",
    "# Custom prefix evaluation function\n",
    "def evaluate_prefix(expression):\n",
    "    tokens = expression.split()\n",
    "    stack = []\n",
    "    \n",
    "    ops = {\n",
    "        '+': operator.add,\n",
    "        '-': operator.sub,\n",
    "        '*': operator.mul,\n",
    "        '/': operator.truediv\n",
    "    }\n",
    "    \n",
    "    for token in reversed(tokens):\n",
    "        if token in ops:\n",
    "            operand1 = stack.pop()\n",
    "            operand2 = stack.pop()\n",
    "            result = ops[token](operand1, operand2)\n",
    "            stack.append(result)\n",
    "        else:\n",
    "            stack.append(float(token))\n",
    "    \n",
    "    return stack[0]\n",
    "\n",
    "# Function to replace number placeholders with actual numbers\n",
    "def replace_numbers_in_equation(equation, input_numbers):\n",
    "    numbers = input_numbers.split()\n",
    "    for i, number in enumerate(numbers):\n",
    "        equation = equation.replace(f\"number{i}\", number)\n",
    "    return equation\n",
    "\n",
    "# Function to generate outputs from the test dataset\n",
    "def generate_outputs(test_df):\n",
    "    final_outputs = []\n",
    "    \n",
    "    model.eval()\n",
    "    with torch.no_grad():\n",
    "        for _, row in test_df.iterrows():\n",
    "            description = row['Description']\n",
    "            question = row['Question']\n",
    "            input_numbers = row['Input Numbers']\n",
    "            \n",
    "            # Prepare the input for the model\n",
    "            input_text = f\"{description} {question}\"\n",
    "            input_ids = tokenizer(input_text, return_tensors='pt').input_ids\n",
    "            \n",
    "            # Generate the predicted equation\n",
    "            outputs = model.generate(input_ids)\n",
    "            predicted_equation = tokenizer.decode(outputs[0], skip_special_tokens=True)\n",
    "            \n",
    "            # Replace placeholders in the equation with actual numbers\n",
    "            final_equation = replace_numbers_in_equation(predicted_equation, input_numbers)\n",
    "            \n",
    "            # Evaluate the final equation to get the result\n",
    "            try:\n",
    "                final_output = evaluate_prefix(final_equation)\n",
    "            except Exception as e:\n",
    "                final_output = None  # Handle evaluation error\n",
    "            \n",
    "            final_outputs.append(final_output)\n",
    "    \n",
    "    return final_outputs\n",
    "\n",
    "\n",
    "# Load the test file\n",
    "test_file_path = '../ArithOpsTestData1.xlsx'  # Provide the correct file path\n",
    "test_df = pd.read_excel(test_file_path)\n",
    "\n",
    "# Generate the final outputs for the test data\n",
    "final_results = generate_outputs(test_df)\n",
    "\n",
    "# Save the final output to an Excel file with no column header and only a single column of final outputs\n",
    "output_file_path_single_column = 'FinalOutputsOnly.xlsx'\n",
    "\n",
    "# Convert the final results to a DataFrame and save without headers\n",
    "pd.DataFrame(final_results).to_excel(output_file_path_single_column, header=False, index=False)\n",
    "\n",
    "print(f\"Final outputs saved to {output_file_path_single_column}\")"
   ]
  },
  {
   "cell_type": "code",
   "execution_count": null,
   "metadata": {},
   "outputs": [],
   "source": []
  }
 ],
 "metadata": {
  "kernelspec": {
   "display_name": "dl-nlp",
   "language": "python",
   "name": "python3"
  },
  "language_info": {
   "codemirror_mode": {
    "name": "ipython",
    "version": 3
   },
   "file_extension": ".py",
   "mimetype": "text/x-python",
   "name": "python",
   "nbconvert_exporter": "python",
   "pygments_lexer": "ipython3",
   "version": "3.10.14"
  }
 },
 "nbformat": 4,
 "nbformat_minor": 2
}
